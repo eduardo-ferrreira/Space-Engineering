{
 "cells": [
  {
   "cell_type": "code",
   "execution_count": 8,
   "id": "ca4f7f65",
   "metadata": {},
   "outputs": [],
   "source": [
    "import numpy as np\n",
    "import astropy.io.fits as fits\n",
    "import os\n",
    "import sys\n",
    "import glob\n",
    "from datetime import datetime"
   ]
  },
  {
   "cell_type": "code",
   "execution_count": 9,
   "id": "2e12e6d4",
   "metadata": {},
   "outputs": [],
   "source": [
    "def get_dark(expt):\n",
    "    for i in glob.glob(\"./ngc6720/ngc6720/darks/*.fits\"):\n",
    "        try:\n",
    "            img=fits.open(i)\n",
    "        except:\n",
    "            print(f\"{i} cannot be open as a fits file\")\n",
    "            continue\n",
    "        if img[0].header[\"EXPTIME\"] == expt:\n",
    "            return img\n",
    "    \n",
    "def get_flat(filter):\n",
    "    for i in glob.glob(\"./ngc6720/ngc6720/flats/*.fits\"):\n",
    "        try:\n",
    "           img=fits.open(i)\n",
    "        except:\n",
    "           print(f\"{i} cannot be open as a fits file\")\n",
    "           continue\n",
    "        if img[0].header[\"FILTER\"] == filter:\n",
    "            return img"
   ]
  },
  {
   "cell_type": "code",
   "execution_count": 10,
   "id": "dcc6cfde",
   "metadata": {},
   "outputs": [],
   "source": [
    "for i in glob.glob(\"./ngc6720/ngc6720/*.fits\"):\n",
    "    try:\n",
    "        im=fits.open(i)\n",
    "    except:\n",
    "        print(f\"{i} cannot be open as a fits file\")\n",
    "        continue\n",
    "    \n",
    "    df = get_dark(im[0].header[\"EXPTIME\"])\n",
    "    ff = get_flat(im[0].header[\"FILTER\"])\n",
    "    dff = get_dark(ff[0].header[\"EXPTIME\"])\n",
    "    \n",
    "    reduced = (im[0].data - df[0].data ) / \\\n",
    "        (ff[0].data - dff[0].data)\n",
    "    datestr=datetime.utcfromtimestamp\\\n",
    "        (im[0].header[\"CTIME\"]).strftime\\\n",
    "            (\"%Y%m%d%H%M%S\")\n",
    "    newname= \"%s-df.fits\" % (datestr)\n",
    "    newfile = fits.open(newname, mode='append')\n",
    "    hdu=fits.PrimaryHDU(data=reduced)\n",
    "    newfile.append(hdu)\n",
    "    newfile[0].header = im[0].header\n",
    "    newfile.close()"
   ]
  }
 ],
 "metadata": {
  "kernelspec": {
   "display_name": "Python 3 (ipykernel)",
   "language": "python",
   "name": "python3"
  },
  "language_info": {
   "codemirror_mode": {
    "name": "ipython",
    "version": 3
   },
   "file_extension": ".py",
   "mimetype": "text/x-python",
   "name": "python",
   "nbconvert_exporter": "python",
   "pygments_lexer": "ipython3",
   "version": "3.10.9"
  }
 },
 "nbformat": 4,
 "nbformat_minor": 5
}
