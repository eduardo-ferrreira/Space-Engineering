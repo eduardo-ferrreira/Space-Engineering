{
 "cells": [
  {
   "cell_type": "markdown",
   "id": "756ac80c",
   "metadata": {},
   "source": [
    "### For a circular orbit without an external force acting in the Hill ($\\mathcal{H}$) frame, the linearized equations are:\n",
    "\n",
    "\n",
    "$$ \\ddot{x} - 2n\\dot{y} - 3n^2x = 0$$ \n",
    "$$ \\ddot{y} + 2n\\dot{x} = 0$$ \n",
    "$$ \\ddot{z} + n^2z = 0$$\n",
    "\n",
    "Defining $\\dot{x}=v_x$, $\\dot{y}= v_y$ and $\\dot{z}=v_z$, we get six first order ODE's:\n",
    "\n",
    "Then\n",
    "\n",
    "$$\\textbf{X} = \\left[x, v_x, y, v_y, z, v_z\\right]^T $$\n",
    "\n",
    "The equation that describes the state system is:\n",
    "\n",
    "$$ \\dot{\\textbf{X}} = A\\textbf{X} $$\n",
    "\n",
    "Solving this will give:\n",
    "\n",
    "$$ A =  \\begin{bmatrix}\n",
    "0 & 1 & 0 & 0 & 0 & 0 \\\\\n",
    "3n^2 & 0 & 0 & 2n & 0 & 0 \\\\\n",
    "0 & 0 & 0 & 1 & 0 & 0 \\\\\n",
    "0 & -2n & 0 & 0 & 0 & 0 \\\\\n",
    "0 & 0 & 0 & 0 & 0 & 1 \\\\\n",
    "0 & 0 & 0 & 0 & -n^2 & 0 \n",
    "\\end{bmatrix}  $$"
   ]
  },
  {
   "cell_type": "markdown",
   "id": "6ca8f435",
   "metadata": {},
   "source": [
    "### Calculating eigenvalues and eigenvectors "
   ]
  },
  {
   "cell_type": "code",
   "execution_count": 1,
   "id": "743c5c39",
   "metadata": {},
   "outputs": [],
   "source": [
    "import sympy as sp"
   ]
  },
  {
   "cell_type": "code",
   "execution_count": 2,
   "id": "63f0a7bb",
   "metadata": {},
   "outputs": [],
   "source": [
    "# Define symbolic variables\n",
    "n = sp.symbols('n')\n",
    "\n",
    "# Define the symbolic matrix\n",
    "A = sp.Matrix([\n",
    "    [0, 1, 0, 0, 0, 0],\n",
    "    [3 * n**2, 0, 0, 2 * n, 0, 0],\n",
    "    [0, 0, 0, 1, 0, 0],\n",
    "    [0, -2 * n, 0, 0, 0, 0],\n",
    "    [0, 0, 0, 0, 0, 1],\n",
    "    [0, 0, 0, 0, -n**2, 0]\n",
    "])\n",
    "\n",
    "# Calculate eigenvalues and eigenvectors symbolically\n",
    "eigenvalues = A.eigenvals()\n",
    "eigenvectors = A.eigenvects()"
   ]
  },
  {
   "cell_type": "code",
   "execution_count": 3,
   "id": "ccecfacb",
   "metadata": {},
   "outputs": [
    {
     "data": {
      "text/plain": [
       "{-I*n: 2, I*n: 2, 0: 2}"
      ]
     },
     "execution_count": 3,
     "metadata": {},
     "output_type": "execute_result"
    }
   ],
   "source": [
    "eigenvalues"
   ]
  },
  {
   "cell_type": "code",
   "execution_count": 4,
   "id": "64299721",
   "metadata": {},
   "outputs": [
    {
     "data": {
      "text/plain": [
       "[(0,\n",
       "  2,\n",
       "  [Matrix([\n",
       "   [0],\n",
       "   [0],\n",
       "   [1],\n",
       "   [0],\n",
       "   [0],\n",
       "   [0]])]),\n",
       " (-I*n,\n",
       "  2,\n",
       "  [Matrix([\n",
       "   [-1/(2*n)],\n",
       "   [     I/2],\n",
       "   [     I/n],\n",
       "   [       1],\n",
       "   [       0],\n",
       "   [       0]]),\n",
       "   Matrix([\n",
       "   [  0],\n",
       "   [  0],\n",
       "   [  0],\n",
       "   [  0],\n",
       "   [I/n],\n",
       "   [  1]])]),\n",
       " (I*n,\n",
       "  2,\n",
       "  [Matrix([\n",
       "   [-1/(2*n)],\n",
       "   [    -I/2],\n",
       "   [    -I/n],\n",
       "   [       1],\n",
       "   [       0],\n",
       "   [       0]]),\n",
       "   Matrix([\n",
       "   [   0],\n",
       "   [   0],\n",
       "   [   0],\n",
       "   [   0],\n",
       "   [-I/n],\n",
       "   [   1]])])]"
      ]
     },
     "execution_count": 4,
     "metadata": {},
     "output_type": "execute_result"
    }
   ],
   "source": [
    "eigenvectors"
   ]
  },
  {
   "cell_type": "code",
   "execution_count": 5,
   "id": "613d45a8",
   "metadata": {},
   "outputs": [
    {
     "data": {
      "text/latex": [
       "$\\displaystyle \\left[\\begin{matrix}0\\\\0\\\\1\\\\0\\\\0\\\\0\\end{matrix}\\right]$"
      ],
      "text/plain": [
       "Matrix([\n",
       "[0],\n",
       "[0],\n",
       "[1],\n",
       "[0],\n",
       "[0],\n",
       "[0]])"
      ]
     },
     "execution_count": 5,
     "metadata": {},
     "output_type": "execute_result"
    }
   ],
   "source": [
    "eigenvectors[0][2][0]"
   ]
  },
  {
   "cell_type": "code",
   "execution_count": 6,
   "id": "36889a1a",
   "metadata": {},
   "outputs": [
    {
     "data": {
      "text/latex": [
       "$\\displaystyle \\left[\\begin{matrix}- \\frac{1}{2 n}\\\\\\frac{i}{2}\\\\\\frac{i}{n}\\\\1\\\\0\\\\0\\end{matrix}\\right]$"
      ],
      "text/plain": [
       "Matrix([\n",
       "[-1/(2*n)],\n",
       "[     I/2],\n",
       "[     I/n],\n",
       "[       1],\n",
       "[       0],\n",
       "[       0]])"
      ]
     },
     "execution_count": 6,
     "metadata": {},
     "output_type": "execute_result"
    }
   ],
   "source": [
    "eigenvectors[1][2][0]"
   ]
  },
  {
   "cell_type": "code",
   "execution_count": 7,
   "id": "f1856d8c",
   "metadata": {},
   "outputs": [
    {
     "data": {
      "text/latex": [
       "$\\displaystyle \\left[\\begin{matrix}0\\\\0\\\\0\\\\0\\\\\\frac{i}{n}\\\\1\\end{matrix}\\right]$"
      ],
      "text/plain": [
       "Matrix([\n",
       "[  0],\n",
       "[  0],\n",
       "[  0],\n",
       "[  0],\n",
       "[I/n],\n",
       "[  1]])"
      ]
     },
     "execution_count": 7,
     "metadata": {},
     "output_type": "execute_result"
    }
   ],
   "source": [
    "eigenvectors[1][2][1]"
   ]
  },
  {
   "cell_type": "code",
   "execution_count": 8,
   "id": "ee4f7f43",
   "metadata": {},
   "outputs": [
    {
     "data": {
      "text/latex": [
       "$\\displaystyle \\left[\\begin{matrix}- \\frac{1}{2 n}\\\\- \\frac{i}{2}\\\\- \\frac{i}{n}\\\\1\\\\0\\\\0\\end{matrix}\\right]$"
      ],
      "text/plain": [
       "Matrix([\n",
       "[-1/(2*n)],\n",
       "[    -I/2],\n",
       "[    -I/n],\n",
       "[       1],\n",
       "[       0],\n",
       "[       0]])"
      ]
     },
     "execution_count": 8,
     "metadata": {},
     "output_type": "execute_result"
    }
   ],
   "source": [
    "eigenvectors[2][2][0]"
   ]
  },
  {
   "cell_type": "code",
   "execution_count": 9,
   "id": "fd57aa79",
   "metadata": {},
   "outputs": [
    {
     "data": {
      "text/latex": [
       "$\\displaystyle \\left[\\begin{matrix}0\\\\0\\\\0\\\\0\\\\- \\frac{i}{n}\\\\1\\end{matrix}\\right]$"
      ],
      "text/plain": [
       "Matrix([\n",
       "[   0],\n",
       "[   0],\n",
       "[   0],\n",
       "[   0],\n",
       "[-I/n],\n",
       "[   1]])"
      ]
     },
     "execution_count": 9,
     "metadata": {},
     "output_type": "execute_result"
    }
   ],
   "source": [
    "eigenvectors[2][2][1]"
   ]
  },
  {
   "cell_type": "code",
   "execution_count": 10,
   "id": "0798e842",
   "metadata": {},
   "outputs": [
    {
     "data": {
      "text/latex": [
       "$\\displaystyle \\left[\\begin{matrix}0 & 1 & 0 & 0 & 0 & 0\\\\3 n^{2} & 0 & 0 & 2 n & 0 & 0\\\\0 & 0 & 0 & 1 & 0 & 0\\\\0 & - 2 n & 0 & 0 & 0 & 0\\\\0 & 0 & 0 & 0 & 0 & 1\\\\0 & 0 & 0 & 0 & - n^{2} & 0\\end{matrix}\\right]$"
      ],
      "text/plain": [
       "Matrix([\n",
       "[     0,    1, 0,   0,     0, 0],\n",
       "[3*n**2,    0, 0, 2*n,     0, 0],\n",
       "[     0,    0, 0,   1,     0, 0],\n",
       "[     0, -2*n, 0,   0,     0, 0],\n",
       "[     0,    0, 0,   0,     0, 1],\n",
       "[     0,    0, 0,   0, -n**2, 0]])"
      ]
     },
     "execution_count": 10,
     "metadata": {},
     "output_type": "execute_result"
    }
   ],
   "source": [
    "A"
   ]
  },
  {
   "cell_type": "code",
   "execution_count": 11,
   "id": "4bee1e03",
   "metadata": {},
   "outputs": [
    {
     "data": {
      "text/latex": [
       "$\\displaystyle \\left[\\begin{matrix}3 n^{2} & 0 & 0 & 2 n & 0 & 0\\\\0 & - n^{2} & 0 & 0 & 0 & 0\\\\0 & - 2 n & 0 & 0 & 0 & 0\\\\- 6 n^{3} & 0 & 0 & - 4 n^{2} & 0 & 0\\\\0 & 0 & 0 & 0 & - n^{2} & 0\\\\0 & 0 & 0 & 0 & 0 & - n^{2}\\end{matrix}\\right]$"
      ],
      "text/plain": [
       "Matrix([\n",
       "[ 3*n**2,     0, 0,     2*n,     0,     0],\n",
       "[      0, -n**2, 0,       0,     0,     0],\n",
       "[      0,  -2*n, 0,       0,     0,     0],\n",
       "[-6*n**3,     0, 0, -4*n**2,     0,     0],\n",
       "[      0,     0, 0,       0, -n**2,     0],\n",
       "[      0,     0, 0,       0,     0, -n**2]])"
      ]
     },
     "execution_count": 11,
     "metadata": {},
     "output_type": "execute_result"
    }
   ],
   "source": [
    "A_sq = A**2\n",
    "A_sq"
   ]
  },
  {
   "cell_type": "code",
   "execution_count": 12,
   "id": "04c84be3",
   "metadata": {},
   "outputs": [],
   "source": [
    "eigenvectors = A_sq.eigenvects()"
   ]
  },
  {
   "cell_type": "code",
   "execution_count": 13,
   "id": "38768471",
   "metadata": {},
   "outputs": [
    {
     "data": {
      "text/latex": [
       "$\\displaystyle \\left[\\begin{matrix}0\\\\0\\\\1\\\\0\\\\0\\\\0\\end{matrix}\\right]$"
      ],
      "text/plain": [
       "Matrix([\n",
       "[0],\n",
       "[0],\n",
       "[1],\n",
       "[0],\n",
       "[0],\n",
       "[0]])"
      ]
     },
     "execution_count": 13,
     "metadata": {},
     "output_type": "execute_result"
    }
   ],
   "source": [
    "eigenvectors[0][2][0]"
   ]
  },
  {
   "cell_type": "code",
   "execution_count": 14,
   "id": "079e3771",
   "metadata": {},
   "outputs": [
    {
     "data": {
      "text/latex": [
       "$\\displaystyle \\left[\\begin{matrix}- \\frac{2}{3 n}\\\\0\\\\0\\\\1\\\\0\\\\0\\end{matrix}\\right]$"
      ],
      "text/plain": [
       "Matrix([\n",
       "[-2/(3*n)],\n",
       "[       0],\n",
       "[       0],\n",
       "[       1],\n",
       "[       0],\n",
       "[       0]])"
      ]
     },
     "execution_count": 14,
     "metadata": {},
     "output_type": "execute_result"
    }
   ],
   "source": [
    "eigenvectors[0][2][1]"
   ]
  },
  {
   "cell_type": "code",
   "execution_count": 24,
   "id": "8fb322a5",
   "metadata": {},
   "outputs": [
    {
     "data": {
      "text/plain": [
       "[5*J_2*x*(-x**2 - y**2 + 2*z**2)/(2*(x**2 + y**2 + z**2)**(7/2)) + J_2*x/(x**2 + y**2 + z**2)**(5/2),\n",
       " 5*J_2*y*(-x**2 - y**2 + 2*z**2)/(2*(x**2 + y**2 + z**2)**(7/2)) + J_2*y/(x**2 + y**2 + z**2)**(5/2),\n",
       " 5*J_2*z*(-x**2 - y**2 + 2*z**2)/(2*(x**2 + y**2 + z**2)**(7/2)) - 2*J_2*z/(x**2 + y**2 + z**2)**(5/2)]"
      ]
     },
     "execution_count": 24,
     "metadata": {},
     "output_type": "execute_result"
    }
   ],
   "source": [
    "from sympy import symbols, sqrt, latex\n",
    "\n",
    "# Define symbolic variables for Cartesian coordinates\n",
    "x, y, z, J2= symbols('x y z J_2')\n",
    "\n",
    "# Define the potential function\n",
    "potential = J2 / (sqrt(x**2 + y**2 + z**2))**5 * 1/2 * (3*z**2 - (x**2 + y**2 + z**2))\n",
    "\n",
    "# Calculate the gradient\n",
    "force = [-1*potential.diff(var) for var in (x, y, z)]\n",
    "\n",
    "\n",
    "force"
   ]
  },
  {
   "cell_type": "code",
   "execution_count": 25,
   "id": "7b06ca6a",
   "metadata": {},
   "outputs": [
    {
     "data": {
      "text/latex": [
       "$\\displaystyle \\frac{5 J_{2} x \\left(- x^{2} - y^{2} + 2 z^{2}\\right)}{2 \\left(x^{2} + y^{2} + z^{2}\\right)^{\\frac{7}{2}}} + \\frac{J_{2} x}{\\left(x^{2} + y^{2} + z^{2}\\right)^{\\frac{5}{2}}}$"
      ],
      "text/plain": [
       "5*J_2*x*(-x**2 - y**2 + 2*z**2)/(2*(x**2 + y**2 + z**2)**(7/2)) + J_2*x/(x**2 + y**2 + z**2)**(5/2)"
      ]
     },
     "execution_count": 25,
     "metadata": {},
     "output_type": "execute_result"
    }
   ],
   "source": [
    "force[0]"
   ]
  },
  {
   "cell_type": "code",
   "execution_count": 26,
   "id": "892927a8",
   "metadata": {},
   "outputs": [
    {
     "data": {
      "text/latex": [
       "$\\displaystyle \\frac{5 J_{2} y \\left(- x^{2} - y^{2} + 2 z^{2}\\right)}{2 \\left(x^{2} + y^{2} + z^{2}\\right)^{\\frac{7}{2}}} + \\frac{J_{2} y}{\\left(x^{2} + y^{2} + z^{2}\\right)^{\\frac{5}{2}}}$"
      ],
      "text/plain": [
       "5*J_2*y*(-x**2 - y**2 + 2*z**2)/(2*(x**2 + y**2 + z**2)**(7/2)) + J_2*y/(x**2 + y**2 + z**2)**(5/2)"
      ]
     },
     "execution_count": 26,
     "metadata": {},
     "output_type": "execute_result"
    }
   ],
   "source": [
    "force[1]"
   ]
  },
  {
   "cell_type": "code",
   "execution_count": 27,
   "id": "894b0c9d",
   "metadata": {},
   "outputs": [
    {
     "data": {
      "text/latex": [
       "$\\displaystyle \\frac{5 J_{2} z \\left(- x^{2} - y^{2} + 2 z^{2}\\right)}{2 \\left(x^{2} + y^{2} + z^{2}\\right)^{\\frac{7}{2}}} - \\frac{2 J_{2} z}{\\left(x^{2} + y^{2} + z^{2}\\right)^{\\frac{5}{2}}}$"
      ],
      "text/plain": [
       "5*J_2*z*(-x**2 - y**2 + 2*z**2)/(2*(x**2 + y**2 + z**2)**(7/2)) - 2*J_2*z/(x**2 + y**2 + z**2)**(5/2)"
      ]
     },
     "execution_count": 27,
     "metadata": {},
     "output_type": "execute_result"
    }
   ],
   "source": [
    "force[2]"
   ]
  },
  {
   "cell_type": "code",
   "execution_count": null,
   "id": "67eacee0",
   "metadata": {},
   "outputs": [],
   "source": []
  }
 ],
 "metadata": {
  "kernelspec": {
   "display_name": "Python 3 (ipykernel)",
   "language": "python",
   "name": "python3"
  },
  "language_info": {
   "codemirror_mode": {
    "name": "ipython",
    "version": 3
   },
   "file_extension": ".py",
   "mimetype": "text/x-python",
   "name": "python",
   "nbconvert_exporter": "python",
   "pygments_lexer": "ipython3",
   "version": "3.10.9"
  }
 },
 "nbformat": 4,
 "nbformat_minor": 5
}
